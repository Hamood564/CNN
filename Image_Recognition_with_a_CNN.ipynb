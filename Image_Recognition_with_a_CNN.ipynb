{
  "nbformat": 4,
  "nbformat_minor": 0,
  "metadata": {
    "colab": {
      "name": "Image Recognition with a CNN.ipynb",
      "provenance": [],
      "authorship_tag": "ABX9TyM2SMmsIx/unbhR1+CoSpgl",
      "include_colab_link": true
    },
    "kernelspec": {
      "name": "python3",
      "display_name": "Python 3"
    }
  },
  "cells": [
    {
      "cell_type": "markdown",
      "metadata": {
        "id": "view-in-github",
        "colab_type": "text"
      },
      "source": [
        "<a href=\"https://colab.research.google.com/github/Hamood564/CNN/blob/main/Image_Recognition_with_a_CNN.ipynb\" target=\"_parent\"><img src=\"https://colab.research.google.com/assets/colab-badge.svg\" alt=\"Open In Colab\"/></a>"
      ]
    },
    {
      "cell_type": "code",
      "metadata": {
        "id": "1ZbAsUSLo5YU"
      },
      "source": [
        "import numpy\r\n",
        "from keras.models import Sequential\r\n",
        "from keras.layers import Dense, Dropout, Flatten, BatchNormalization, Activation\r\n",
        "from keras.layers.convolutional import Conv2D, MaxPooling2D\r\n",
        "from keras.constraints import maxnorm\r\n",
        "from keras.utils import np_utils"
      ],
      "execution_count": 1,
      "outputs": []
    },
    {
      "cell_type": "code",
      "metadata": {
        "id": "4qsFB0oxpLAg"
      },
      "source": [
        "# Set random seed for purposes of reproducibility\r\n",
        "seed = 21"
      ],
      "execution_count": 2,
      "outputs": []
    },
    {
      "cell_type": "code",
      "metadata": {
        "id": "9zoydfEZpLC_"
      },
      "source": [
        "from keras.datasets import cifar10"
      ],
      "execution_count": 3,
      "outputs": []
    },
    {
      "cell_type": "code",
      "metadata": {
        "colab": {
          "base_uri": "https://localhost:8080/"
        },
        "id": "iXCQ2q0QpLFQ",
        "outputId": "a6427820-385a-4a65-fc91-da4e255193ae"
      },
      "source": [
        "# loading in the data\r\n",
        "     \r\n",
        "(X_train, y_train), (X_test, y_test) = cifar10.load_data()"
      ],
      "execution_count": 4,
      "outputs": [
        {
          "output_type": "stream",
          "text": [
            "Downloading data from https://www.cs.toronto.edu/~kriz/cifar-10-python.tar.gz\n",
            "170500096/170498071 [==============================] - 3s 0us/step\n"
          ],
          "name": "stdout"
        }
      ]
    },
    {
      "cell_type": "code",
      "metadata": {
        "id": "s1_wpJHvpLHx"
      },
      "source": [
        "# normalize the inputs from 0-255 to between 0 and 1 by dividing by 255\r\n",
        "    \r\n",
        "X_train = X_train.astype('float32')\r\n",
        "X_test = X_test.astype('float32')\r\n",
        "X_train = X_train / 255.0\r\n",
        "X_test = X_test / 255.0"
      ],
      "execution_count": 5,
      "outputs": []
    },
    {
      "cell_type": "code",
      "metadata": {
        "id": "Zc3u8ym6pLJ3"
      },
      "source": [
        "# one hot encode outputs\r\n",
        "y_train = np_utils.to_categorical(y_train)\r\n",
        "y_test = np_utils.to_categorical(y_test)\r\n",
        "class_num = y_test.shape[1]"
      ],
      "execution_count": 6,
      "outputs": []
    },
    {
      "cell_type": "code",
      "metadata": {
        "id": "jAcP9FXdpLMH"
      },
      "source": [
        "model = Sequential()"
      ],
      "execution_count": 7,
      "outputs": []
    },
    {
      "cell_type": "code",
      "metadata": {
        "id": "jbyRR-njpLOY"
      },
      "source": [
        "model.add(Conv2D(32, (3, 3), input_shape=X_train.shape[1:], padding='same'))\r\n",
        "model.add(Activation('relu'))"
      ],
      "execution_count": 8,
      "outputs": []
    },
    {
      "cell_type": "code",
      "metadata": {
        "id": "WhXPUUbxpLQY"
      },
      "source": [
        "model.add(Conv2D(32, (3, 3), input_shape=(3, 32, 32), activation='relu', padding='same'))"
      ],
      "execution_count": 9,
      "outputs": []
    },
    {
      "cell_type": "code",
      "metadata": {
        "id": "w2EaW-QNpLS3"
      },
      "source": [
        "model.add(Dropout(0.2))"
      ],
      "execution_count": 10,
      "outputs": []
    },
    {
      "cell_type": "code",
      "metadata": {
        "id": "Dexn9qACpgF5"
      },
      "source": [
        "model.add(BatchNormalization())"
      ],
      "execution_count": 11,
      "outputs": []
    },
    {
      "cell_type": "code",
      "metadata": {
        "id": "TXUBZO-PpgIB"
      },
      "source": [
        "model.add(Conv2D(64, (3, 3), padding='same'))\r\n",
        "model.add(Activation('relu'))"
      ],
      "execution_count": 12,
      "outputs": []
    },
    {
      "cell_type": "code",
      "metadata": {
        "id": "uO0CKRFPpgKI"
      },
      "source": [
        "model.add(MaxPooling2D(pool_size=(2, 2)))\r\n",
        "model.add(Dropout(0.2))\r\n",
        "model.add(BatchNormalization())"
      ],
      "execution_count": 13,
      "outputs": []
    },
    {
      "cell_type": "code",
      "metadata": {
        "id": "F9Pi30HgpgMY"
      },
      "source": [
        "model.add(Conv2D(64, (3, 3), padding='same'))\r\n",
        "model.add(Activation('relu'))\r\n",
        "model.add(MaxPooling2D(pool_size=(2, 2)))\r\n",
        "model.add(Dropout(0.2))\r\n",
        "model.add(BatchNormalization())\r\n",
        "    \r\n",
        "model.add(Conv2D(128, (3, 3), padding='same'))\r\n",
        "model.add(Activation('relu'))\r\n",
        "model.add(Dropout(0.2))\r\n",
        "model.add(BatchNormalization())"
      ],
      "execution_count": 14,
      "outputs": []
    },
    {
      "cell_type": "code",
      "metadata": {
        "id": "0PfCfK6LpgOr"
      },
      "source": [
        "model.add(Flatten())\r\n",
        "model.add(Dropout(0.2))"
      ],
      "execution_count": 15,
      "outputs": []
    },
    {
      "cell_type": "code",
      "metadata": {
        "id": "zE4I6MgepgRI"
      },
      "source": [
        "model.add(Dense(256, kernel_constraint=maxnorm(3)))\r\n",
        "model.add(Activation('relu'))\r\n",
        "model.add(Dropout(0.2))\r\n",
        "model.add(BatchNormalization())\r\n",
        "    \r\n",
        "model.add(Dense(128, kernel_constraint=maxnorm(3)))\r\n",
        "model.add(Activation('relu'))\r\n",
        "model.add(Dropout(0.2))\r\n",
        "model.add(BatchNormalization())"
      ],
      "execution_count": 16,
      "outputs": []
    },
    {
      "cell_type": "code",
      "metadata": {
        "id": "RrdvybgzpgTg"
      },
      "source": [
        "model.add(Dense(class_num))\r\n",
        "model.add(Activation('softmax'))"
      ],
      "execution_count": 17,
      "outputs": []
    },
    {
      "cell_type": "code",
      "metadata": {
        "id": "w5KCYK78pxXQ"
      },
      "source": [
        "epochs = 25\r\n",
        "optimizer = 'adam'"
      ],
      "execution_count": 18,
      "outputs": []
    },
    {
      "cell_type": "code",
      "metadata": {
        "id": "KOucL43RpxZ4"
      },
      "source": [
        "model.compile(loss='categorical_crossentropy', optimizer=optimizer, metrics=['accuracy'])\r\n"
      ],
      "execution_count": 19,
      "outputs": []
    },
    {
      "cell_type": "code",
      "metadata": {
        "colab": {
          "base_uri": "https://localhost:8080/"
        },
        "id": "ozElBxeApxcQ",
        "outputId": "6dd6a8b3-1bb7-412e-fa07-287800b5814d"
      },
      "source": [
        "print(model.summary())\r\n"
      ],
      "execution_count": 20,
      "outputs": [
        {
          "output_type": "stream",
          "text": [
            "Model: \"sequential\"\n",
            "_________________________________________________________________\n",
            "Layer (type)                 Output Shape              Param #   \n",
            "=================================================================\n",
            "conv2d (Conv2D)              (None, 32, 32, 32)        896       \n",
            "_________________________________________________________________\n",
            "activation (Activation)      (None, 32, 32, 32)        0         \n",
            "_________________________________________________________________\n",
            "conv2d_1 (Conv2D)            (None, 32, 32, 32)        9248      \n",
            "_________________________________________________________________\n",
            "dropout (Dropout)            (None, 32, 32, 32)        0         \n",
            "_________________________________________________________________\n",
            "batch_normalization (BatchNo (None, 32, 32, 32)        128       \n",
            "_________________________________________________________________\n",
            "conv2d_2 (Conv2D)            (None, 32, 32, 64)        18496     \n",
            "_________________________________________________________________\n",
            "activation_1 (Activation)    (None, 32, 32, 64)        0         \n",
            "_________________________________________________________________\n",
            "max_pooling2d (MaxPooling2D) (None, 16, 16, 64)        0         \n",
            "_________________________________________________________________\n",
            "dropout_1 (Dropout)          (None, 16, 16, 64)        0         \n",
            "_________________________________________________________________\n",
            "batch_normalization_1 (Batch (None, 16, 16, 64)        256       \n",
            "_________________________________________________________________\n",
            "conv2d_3 (Conv2D)            (None, 16, 16, 64)        36928     \n",
            "_________________________________________________________________\n",
            "activation_2 (Activation)    (None, 16, 16, 64)        0         \n",
            "_________________________________________________________________\n",
            "max_pooling2d_1 (MaxPooling2 (None, 8, 8, 64)          0         \n",
            "_________________________________________________________________\n",
            "dropout_2 (Dropout)          (None, 8, 8, 64)          0         \n",
            "_________________________________________________________________\n",
            "batch_normalization_2 (Batch (None, 8, 8, 64)          256       \n",
            "_________________________________________________________________\n",
            "conv2d_4 (Conv2D)            (None, 8, 8, 128)         73856     \n",
            "_________________________________________________________________\n",
            "activation_3 (Activation)    (None, 8, 8, 128)         0         \n",
            "_________________________________________________________________\n",
            "dropout_3 (Dropout)          (None, 8, 8, 128)         0         \n",
            "_________________________________________________________________\n",
            "batch_normalization_3 (Batch (None, 8, 8, 128)         512       \n",
            "_________________________________________________________________\n",
            "flatten (Flatten)            (None, 8192)              0         \n",
            "_________________________________________________________________\n",
            "dropout_4 (Dropout)          (None, 8192)              0         \n",
            "_________________________________________________________________\n",
            "dense (Dense)                (None, 256)               2097408   \n",
            "_________________________________________________________________\n",
            "activation_4 (Activation)    (None, 256)               0         \n",
            "_________________________________________________________________\n",
            "dropout_5 (Dropout)          (None, 256)               0         \n",
            "_________________________________________________________________\n",
            "batch_normalization_4 (Batch (None, 256)               1024      \n",
            "_________________________________________________________________\n",
            "dense_1 (Dense)              (None, 128)               32896     \n",
            "_________________________________________________________________\n",
            "activation_5 (Activation)    (None, 128)               0         \n",
            "_________________________________________________________________\n",
            "dropout_6 (Dropout)          (None, 128)               0         \n",
            "_________________________________________________________________\n",
            "batch_normalization_5 (Batch (None, 128)               512       \n",
            "_________________________________________________________________\n",
            "dense_2 (Dense)              (None, 10)                1290      \n",
            "_________________________________________________________________\n",
            "activation_6 (Activation)    (None, 10)                0         \n",
            "=================================================================\n",
            "Total params: 2,273,706\n",
            "Trainable params: 2,272,362\n",
            "Non-trainable params: 1,344\n",
            "_________________________________________________________________\n",
            "None\n"
          ],
          "name": "stdout"
        }
      ]
    },
    {
      "cell_type": "code",
      "metadata": {
        "colab": {
          "base_uri": "https://localhost:8080/"
        },
        "id": "pJyJUNv3pxeY",
        "outputId": "ccd176ab-2907-4d88-f602-2126dda7c20e"
      },
      "source": [
        "numpy.random.seed(seed)\r\n",
        "model.fit(X_train, y_train, validation_data=(X_test, y_test), epochs=epochs, batch_size=64)"
      ],
      "execution_count": 21,
      "outputs": [
        {
          "output_type": "stream",
          "text": [
            "Epoch 1/25\n",
            "782/782 [==============================] - 492s 627ms/step - loss: 1.7946 - accuracy: 0.3744 - val_loss: 1.1345 - val_accuracy: 0.5854\n",
            "Epoch 2/25\n",
            "782/782 [==============================] - 477s 610ms/step - loss: 1.0766 - accuracy: 0.6153 - val_loss: 0.8548 - val_accuracy: 0.6954\n",
            "Epoch 3/25\n",
            "782/782 [==============================] - 473s 605ms/step - loss: 0.8630 - accuracy: 0.6958 - val_loss: 0.7979 - val_accuracy: 0.7164\n",
            "Epoch 4/25\n",
            "782/782 [==============================] - 472s 604ms/step - loss: 0.7559 - accuracy: 0.7331 - val_loss: 0.6902 - val_accuracy: 0.7579\n",
            "Epoch 5/25\n",
            "782/782 [==============================] - 472s 604ms/step - loss: 0.6869 - accuracy: 0.7579 - val_loss: 0.7155 - val_accuracy: 0.7476\n",
            "Epoch 6/25\n",
            "782/782 [==============================] - 472s 604ms/step - loss: 0.6338 - accuracy: 0.7810 - val_loss: 0.7119 - val_accuracy: 0.7523\n",
            "Epoch 7/25\n",
            "782/782 [==============================] - 472s 604ms/step - loss: 0.5860 - accuracy: 0.7933 - val_loss: 0.7139 - val_accuracy: 0.7554\n",
            "Epoch 8/25\n",
            "782/782 [==============================] - 477s 610ms/step - loss: 0.5672 - accuracy: 0.8005 - val_loss: 0.6283 - val_accuracy: 0.7878\n",
            "Epoch 9/25\n",
            "782/782 [==============================] - 479s 613ms/step - loss: 0.5424 - accuracy: 0.8096 - val_loss: 0.5905 - val_accuracy: 0.7966\n",
            "Epoch 10/25\n",
            "782/782 [==============================] - 479s 612ms/step - loss: 0.5048 - accuracy: 0.8224 - val_loss: 0.5850 - val_accuracy: 0.8030\n",
            "Epoch 11/25\n",
            "782/782 [==============================] - 473s 605ms/step - loss: 0.4991 - accuracy: 0.8255 - val_loss: 0.5619 - val_accuracy: 0.8086\n",
            "Epoch 12/25\n",
            "782/782 [==============================] - 474s 607ms/step - loss: 0.4780 - accuracy: 0.8336 - val_loss: 0.6767 - val_accuracy: 0.7744\n",
            "Epoch 13/25\n",
            "782/782 [==============================] - 474s 606ms/step - loss: 0.4713 - accuracy: 0.8360 - val_loss: 0.5615 - val_accuracy: 0.8078\n",
            "Epoch 14/25\n",
            "782/782 [==============================] - 473s 604ms/step - loss: 0.4467 - accuracy: 0.8443 - val_loss: 0.5345 - val_accuracy: 0.8177\n",
            "Epoch 15/25\n",
            "782/782 [==============================] - 470s 602ms/step - loss: 0.4439 - accuracy: 0.8458 - val_loss: 0.6249 - val_accuracy: 0.7900\n",
            "Epoch 16/25\n",
            "782/782 [==============================] - 470s 601ms/step - loss: 0.4340 - accuracy: 0.8477 - val_loss: 0.5351 - val_accuracy: 0.8165\n",
            "Epoch 17/25\n",
            "782/782 [==============================] - 470s 601ms/step - loss: 0.4113 - accuracy: 0.8560 - val_loss: 0.5386 - val_accuracy: 0.8183\n",
            "Epoch 18/25\n",
            "782/782 [==============================] - 474s 606ms/step - loss: 0.4125 - accuracy: 0.8543 - val_loss: 0.5339 - val_accuracy: 0.8259\n",
            "Epoch 19/25\n",
            "782/782 [==============================] - 472s 604ms/step - loss: 0.4067 - accuracy: 0.8587 - val_loss: 0.5277 - val_accuracy: 0.8208\n",
            "Epoch 20/25\n",
            "782/782 [==============================] - 473s 605ms/step - loss: 0.3953 - accuracy: 0.8616 - val_loss: 0.5485 - val_accuracy: 0.8225\n",
            "Epoch 21/25\n",
            "782/782 [==============================] - 472s 604ms/step - loss: 0.3950 - accuracy: 0.8638 - val_loss: 0.5780 - val_accuracy: 0.8052\n",
            "Epoch 22/25\n",
            "782/782 [==============================] - 473s 605ms/step - loss: 0.3825 - accuracy: 0.8636 - val_loss: 0.5413 - val_accuracy: 0.8212\n",
            "Epoch 23/25\n",
            "782/782 [==============================] - 478s 611ms/step - loss: 0.3771 - accuracy: 0.8663 - val_loss: 0.5146 - val_accuracy: 0.8303\n",
            "Epoch 24/25\n",
            "782/782 [==============================] - 477s 611ms/step - loss: 0.3763 - accuracy: 0.8699 - val_loss: 0.5708 - val_accuracy: 0.8104\n",
            "Epoch 25/25\n",
            "782/782 [==============================] - 478s 611ms/step - loss: 0.4400 - accuracy: 0.8453 - val_loss: 0.5482 - val_accuracy: 0.8197\n"
          ],
          "name": "stdout"
        },
        {
          "output_type": "execute_result",
          "data": {
            "text/plain": [
              "<tensorflow.python.keras.callbacks.History at 0x7f3f14a1c490>"
            ]
          },
          "metadata": {
            "tags": []
          },
          "execution_count": 21
        }
      ]
    },
    {
      "cell_type": "code",
      "metadata": {
        "colab": {
          "base_uri": "https://localhost:8080/"
        },
        "id": "xrpsql-Upxg4",
        "outputId": "fa6f4d32-0a00-47d3-99c5-6389c94cb5fe"
      },
      "source": [
        "# Model evaluation\r\n",
        "scores = model.evaluate(X_test, y_test, verbose=0)\r\n",
        "print(\"Accuracy: %.2f%%\" % (scores[1]*100))"
      ],
      "execution_count": 22,
      "outputs": [
        {
          "output_type": "stream",
          "text": [
            "Accuracy: 81.97%\n"
          ],
          "name": "stdout"
        }
      ]
    },
    {
      "cell_type": "code",
      "metadata": {
        "id": "GnLVF-6RpxjY"
      },
      "source": [
        ""
      ],
      "execution_count": null,
      "outputs": []
    },
    {
      "cell_type": "code",
      "metadata": {
        "id": "rMiHkNIqpxlU"
      },
      "source": [
        ""
      ],
      "execution_count": null,
      "outputs": []
    },
    {
      "cell_type": "code",
      "metadata": {
        "id": "mE9t4brrpgVx"
      },
      "source": [
        ""
      ],
      "execution_count": null,
      "outputs": []
    }
  ]
}